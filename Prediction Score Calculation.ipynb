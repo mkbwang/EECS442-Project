{
 "cells": [
  {
   "cell_type": "markdown",
   "metadata": {},
   "source": [
    "# Prediction Score Calculation\n"
   ]
  },
  {
   "cell_type": "code",
   "execution_count": 12,
   "metadata": {},
   "outputs": [],
   "source": [
    "import pandas as pd\n",
    "import numpy as np\n",
    "import pickle"
   ]
  },
  {
   "cell_type": "code",
   "execution_count": 2,
   "metadata": {},
   "outputs": [],
   "source": [
    "def map_per_image(label, predictions):\n",
    "    \"\"\"Computes the precision score of one image.\n",
    "\n",
    "    Parameters\n",
    "    ----------\n",
    "    label : string\n",
    "            The true label of the image\n",
    "    predictions : list\n",
    "            A list of predicted elements (order does matter, 5 predictions allowed per image)\n",
    "\n",
    "    Returns\n",
    "    -------\n",
    "    score : double\n",
    "    \"\"\"    \n",
    "    try:\n",
    "        return 1 / (predictions[:5].index(label) + 1)\n",
    "    except ValueError:\n",
    "        return 0.0"
   ]
  },
  {
   "cell_type": "code",
   "execution_count": 3,
   "metadata": {},
   "outputs": [],
   "source": [
    "def map_per_set(labels, predictions):\n",
    "    \"\"\"Computes the average over multiple images.\n",
    "\n",
    "    Parameters\n",
    "    ----------\n",
    "    labels : list\n",
    "             A list of the true labels. (Only one true label per images allowed!)\n",
    "    predictions : list of list\n",
    "             A list of predicted elements (order does matter, 5 predictions allowed per image)\n",
    "\n",
    "    Returns\n",
    "    -------\n",
    "    score : double\n",
    "    \"\"\"\n",
    "    return np.mean([map_per_image(l, p) for l,p in zip(labels, predictions)])"
   ]
  },
  {
   "cell_type": "code",
   "execution_count": 4,
   "metadata": {},
   "outputs": [],
   "source": [
    "groundtruth = pd.read_csv(\"subset_test.csv\")"
   ]
  },
  {
   "cell_type": "code",
   "execution_count": 5,
   "metadata": {},
   "outputs": [
    {
     "data": {
      "text/html": [
       "<div>\n",
       "<style scoped>\n",
       "    .dataframe tbody tr th:only-of-type {\n",
       "        vertical-align: middle;\n",
       "    }\n",
       "\n",
       "    .dataframe tbody tr th {\n",
       "        vertical-align: top;\n",
       "    }\n",
       "\n",
       "    .dataframe thead th {\n",
       "        text-align: right;\n",
       "    }\n",
       "</style>\n",
       "<table border=\"1\" class=\"dataframe\">\n",
       "  <thead>\n",
       "    <tr style=\"text-align: right;\">\n",
       "      <th></th>\n",
       "      <th>Unnamed: 0</th>\n",
       "      <th>Image</th>\n",
       "      <th>Id</th>\n",
       "    </tr>\n",
       "  </thead>\n",
       "  <tbody>\n",
       "    <tr>\n",
       "      <th>0</th>\n",
       "      <td>10114</td>\n",
       "      <td>6657fc566.jpg</td>\n",
       "      <td>w_d573a68</td>\n",
       "    </tr>\n",
       "    <tr>\n",
       "      <th>1</th>\n",
       "      <td>6614</td>\n",
       "      <td>43610ee69.jpg</td>\n",
       "      <td>w_3fe5d56</td>\n",
       "    </tr>\n",
       "    <tr>\n",
       "      <th>2</th>\n",
       "      <td>488</td>\n",
       "      <td>04a973240.jpg</td>\n",
       "      <td>w_11ff425</td>\n",
       "    </tr>\n",
       "    <tr>\n",
       "      <th>3</th>\n",
       "      <td>17021</td>\n",
       "      <td>ab104061d.jpg</td>\n",
       "      <td>w_bbfce38</td>\n",
       "    </tr>\n",
       "    <tr>\n",
       "      <th>4</th>\n",
       "      <td>3543</td>\n",
       "      <td>2453dea33.jpg</td>\n",
       "      <td>w_16def42</td>\n",
       "    </tr>\n",
       "    <tr>\n",
       "      <th>5</th>\n",
       "      <td>7207</td>\n",
       "      <td>491d5c1af.jpg</td>\n",
       "      <td>w_53feb91</td>\n",
       "    </tr>\n",
       "    <tr>\n",
       "      <th>6</th>\n",
       "      <td>25036</td>\n",
       "      <td>fc5c53caa.jpg</td>\n",
       "      <td>w_dd88965</td>\n",
       "    </tr>\n",
       "    <tr>\n",
       "      <th>7</th>\n",
       "      <td>23067</td>\n",
       "      <td>e880a0ac6.jpg</td>\n",
       "      <td>w_23a388d</td>\n",
       "    </tr>\n",
       "    <tr>\n",
       "      <th>8</th>\n",
       "      <td>19420</td>\n",
       "      <td>c3cb62502.jpg</td>\n",
       "      <td>w_76065ea</td>\n",
       "    </tr>\n",
       "    <tr>\n",
       "      <th>9</th>\n",
       "      <td>10974</td>\n",
       "      <td>6f65249d3.jpg</td>\n",
       "      <td>w_030e2cf</td>\n",
       "    </tr>\n",
       "  </tbody>\n",
       "</table>\n",
       "</div>"
      ],
      "text/plain": [
       "   Unnamed: 0          Image         Id\n",
       "0       10114  6657fc566.jpg  w_d573a68\n",
       "1        6614  43610ee69.jpg  w_3fe5d56\n",
       "2         488  04a973240.jpg  w_11ff425\n",
       "3       17021  ab104061d.jpg  w_bbfce38\n",
       "4        3543  2453dea33.jpg  w_16def42\n",
       "5        7207  491d5c1af.jpg  w_53feb91\n",
       "6       25036  fc5c53caa.jpg  w_dd88965\n",
       "7       23067  e880a0ac6.jpg  w_23a388d\n",
       "8       19420  c3cb62502.jpg  w_76065ea\n",
       "9       10974  6f65249d3.jpg  w_030e2cf"
      ]
     },
     "execution_count": 5,
     "metadata": {},
     "output_type": "execute_result"
    }
   ],
   "source": [
    "groundtruth.head(10)"
   ]
  },
  {
   "cell_type": "code",
   "execution_count": 6,
   "metadata": {},
   "outputs": [],
   "source": [
    "prediction = pd.read_csv('data/Predicted_labels_crop_aug.csv')"
   ]
  },
  {
   "cell_type": "code",
   "execution_count": 7,
   "metadata": {},
   "outputs": [
    {
     "data": {
      "text/html": [
       "<div>\n",
       "<style scoped>\n",
       "    .dataframe tbody tr th:only-of-type {\n",
       "        vertical-align: middle;\n",
       "    }\n",
       "\n",
       "    .dataframe tbody tr th {\n",
       "        vertical-align: top;\n",
       "    }\n",
       "\n",
       "    .dataframe thead th {\n",
       "        text-align: right;\n",
       "    }\n",
       "</style>\n",
       "<table border=\"1\" class=\"dataframe\">\n",
       "  <thead>\n",
       "    <tr style=\"text-align: right;\">\n",
       "      <th></th>\n",
       "      <th>Image</th>\n",
       "      <th>Id</th>\n",
       "    </tr>\n",
       "  </thead>\n",
       "  <tbody>\n",
       "    <tr>\n",
       "      <th>0</th>\n",
       "      <td>6657fc566.jpg</td>\n",
       "      <td>w_d573a68 w_0abdaf4 w_3815890 w_a780b2d w_c875e45</td>\n",
       "    </tr>\n",
       "    <tr>\n",
       "      <th>1</th>\n",
       "      <td>43610ee69.jpg</td>\n",
       "      <td>w_8799716 w_3fe5d56 w_4e13e82 w_3b03149 w_e99ed06</td>\n",
       "    </tr>\n",
       "    <tr>\n",
       "      <th>2</th>\n",
       "      <td>04a973240.jpg</td>\n",
       "      <td>w_11ff425 w_8ea9f68 w_336e046 w_01f14e1 w_ae8982d</td>\n",
       "    </tr>\n",
       "    <tr>\n",
       "      <th>3</th>\n",
       "      <td>ab104061d.jpg</td>\n",
       "      <td>w_9c506f6 w_3eae264 w_d947e85 w_bbfce38 w_e906edd</td>\n",
       "    </tr>\n",
       "    <tr>\n",
       "      <th>4</th>\n",
       "      <td>2453dea33.jpg</td>\n",
       "      <td>w_16def42 w_bff3c3b w_c0e27e9 w_007fefa w_9713cc3</td>\n",
       "    </tr>\n",
       "    <tr>\n",
       "      <th>5</th>\n",
       "      <td>491d5c1af.jpg</td>\n",
       "      <td>w_f8746c3 w_60cf87c w_edf0164 w_6525e6b w_53feb91</td>\n",
       "    </tr>\n",
       "    <tr>\n",
       "      <th>6</th>\n",
       "      <td>fc5c53caa.jpg</td>\n",
       "      <td>w_dd88965 w_51fc1fc w_fdd3687 w_0f8b8e2 w_16b5050</td>\n",
       "    </tr>\n",
       "    <tr>\n",
       "      <th>7</th>\n",
       "      <td>e880a0ac6.jpg</td>\n",
       "      <td>w_7aea0b8 w_8cad422 w_04003e9 w_3f7d5f5 w_5d5c6a6</td>\n",
       "    </tr>\n",
       "    <tr>\n",
       "      <th>8</th>\n",
       "      <td>c3cb62502.jpg</td>\n",
       "      <td>w_76065ea w_f0fe284 w_00d50c9 w_37d2f3a w_2137c6f</td>\n",
       "    </tr>\n",
       "    <tr>\n",
       "      <th>9</th>\n",
       "      <td>6f65249d3.jpg</td>\n",
       "      <td>w_2d6596f w_030e2cf w_0a155b9 w_d602efb w_749dffd</td>\n",
       "    </tr>\n",
       "  </tbody>\n",
       "</table>\n",
       "</div>"
      ],
      "text/plain": [
       "           Image                                                 Id\n",
       "0  6657fc566.jpg  w_d573a68 w_0abdaf4 w_3815890 w_a780b2d w_c875e45\n",
       "1  43610ee69.jpg  w_8799716 w_3fe5d56 w_4e13e82 w_3b03149 w_e99ed06\n",
       "2  04a973240.jpg  w_11ff425 w_8ea9f68 w_336e046 w_01f14e1 w_ae8982d\n",
       "3  ab104061d.jpg  w_9c506f6 w_3eae264 w_d947e85 w_bbfce38 w_e906edd\n",
       "4  2453dea33.jpg  w_16def42 w_bff3c3b w_c0e27e9 w_007fefa w_9713cc3\n",
       "5  491d5c1af.jpg  w_f8746c3 w_60cf87c w_edf0164 w_6525e6b w_53feb91\n",
       "6  fc5c53caa.jpg  w_dd88965 w_51fc1fc w_fdd3687 w_0f8b8e2 w_16b5050\n",
       "7  e880a0ac6.jpg  w_7aea0b8 w_8cad422 w_04003e9 w_3f7d5f5 w_5d5c6a6\n",
       "8  c3cb62502.jpg  w_76065ea w_f0fe284 w_00d50c9 w_37d2f3a w_2137c6f\n",
       "9  6f65249d3.jpg  w_2d6596f w_030e2cf w_0a155b9 w_d602efb w_749dffd"
      ]
     },
     "execution_count": 7,
     "metadata": {},
     "output_type": "execute_result"
    }
   ],
   "source": [
    "prediction.head(10)"
   ]
  },
  {
   "cell_type": "code",
   "execution_count": 8,
   "metadata": {},
   "outputs": [],
   "source": [
    "truthlabels = list(groundtruth['Id'])"
   ]
  },
  {
   "cell_type": "code",
   "execution_count": 9,
   "metadata": {},
   "outputs": [],
   "source": [
    "predictlabels = list(prediction['Id'])\n",
    "predictlabels = [candidate.split() for candidate in predictlabels]"
   ]
  },
  {
   "cell_type": "code",
   "execution_count": 10,
   "metadata": {},
   "outputs": [
    {
     "data": {
      "text/plain": [
       "['w_f8746c3', 'w_60cf87c', 'w_edf0164', 'w_6525e6b', 'w_53feb91']"
      ]
     },
     "execution_count": 10,
     "metadata": {},
     "output_type": "execute_result"
    }
   ],
   "source": [
    "predictlabels[5]"
   ]
  },
  {
   "cell_type": "code",
   "execution_count": 11,
   "metadata": {},
   "outputs": [
    {
     "data": {
      "text/plain": [
       "0.728682405165456"
      ]
     },
     "execution_count": 11,
     "metadata": {},
     "output_type": "execute_result"
    }
   ],
   "source": [
    "map_per_set(truthlabels, predictlabels)"
   ]
  },
  {
   "cell_type": "markdown",
   "metadata": {},
   "source": [
    "Load the training history and plot the loss and accuracies."
   ]
  },
  {
   "cell_type": "code",
   "execution_count": 13,
   "metadata": {},
   "outputs": [],
   "source": [
    "with open(\"data/training_history_crop_aug.pkl\", 'rb') as f:\n",
    "    history = pickle.load(f)"
   ]
  },
  {
   "cell_type": "code",
   "execution_count": 14,
   "metadata": {},
   "outputs": [
    {
     "data": {
      "text/plain": [
       "dict_keys(['val_loss', 'val_acc', 'loss', 'acc', 'lr'])"
      ]
     },
     "execution_count": 14,
     "metadata": {},
     "output_type": "execute_result"
    }
   ],
   "source": [
    "history.keys()"
   ]
  },
  {
   "cell_type": "code",
   "execution_count": 16,
   "metadata": {},
   "outputs": [],
   "source": [
    "import matplotlib.pyplot as plt\n",
    "import seaborn as sns"
   ]
  },
  {
   "cell_type": "code",
   "execution_count": 19,
   "metadata": {},
   "outputs": [
    {
     "data": {
      "image/png": "[encoded data removed]",
      "text/plain": [
       "<matplotlib.figure.Figure at 0x7f9223d06278>"
      ]
     },
     "metadata": {},
     "output_type": "display_data"
    }
   ],
   "source": [
    "sns.set()\n",
    "plt.figure()\n",
    "plt.plot(history['loss'], label=\"Training Loss\", alpha=0.7)\n",
    "plt.plot(history['val_loss'], label=\"Validation Loss\", alpha=0.7)\n",
    "plt.legend()\n",
    "plt.xlabel(\"Epoch\")\n",
    "plt.ylabel(\"Cross Entropy Loss\")\n",
    "plt.savefig(\"Loss_Plot.pdf\")"
   ]
  },
  {
   "cell_type": "code",
   "execution_count": 20,
   "metadata": {},
   "outputs": [
    {
     "data": {
      "image/png": "[encoded data removed]",
      "text/plain": [
       "<matplotlib.figure.Figure at 0x7f9217c8f630>"
      ]
     },
     "metadata": {},
     "output_type": "display_data"
    }
   ],
   "source": [
    "sns.set()\n",
    "plt.figure()\n",
    "plt.plot(history['acc'], label=\"Training Accuracy\", alpha=0.7)\n",
    "plt.plot(history['val_acc'], label=\"Validation Accuracy\", alpha=0.7)\n",
    "plt.legend()\n",
    "plt.xlabel(\"Epoch\")\n",
    "plt.ylabel(\"Accuracy\")\n",
    "plt.savefig(\"Accuracy_Plot.pdf\")"
   ]
  }
 ],
 "metadata": {
  "kernelspec": {
   "display_name": "Python 3",
   "language": "python",
   "name": "python3"
  },
  "language_info": {
   "codemirror_mode": {
    "name": "ipython",
    "version": 3
   },
   "file_extension": ".py",
   "mimetype": "text/x-python",
   "name": "python",
   "nbconvert_exporter": "python",
   "pygments_lexer": "ipython3",
   "version": "3.6.4"
  }
 },
 "nbformat": 4,
 "nbformat_minor": 2
}
