{
 "cells": [
  {
   "cell_type": "markdown",
   "metadata": {},
   "source": [
    "# Prediction Score Calculation\n"
   ]
  },
  {
   "cell_type": "code",
   "execution_count": 1,
   "metadata": {},
   "outputs": [],
   "source": [
    "import pandas as pd\n",
    "import numpy as np"
   ]
  },
  {
   "cell_type": "code",
   "execution_count": 2,
   "metadata": {},
   "outputs": [],
   "source": [
    "def map_per_image(label, predictions):\n",
    "    \"\"\"Computes the precision score of one image.\n",
    "\n",
    "    Parameters\n",
    "    ----------\n",
    "    label : string\n",
    "            The true label of the image\n",
    "    predictions : list\n",
    "            A list of predicted elements (order does matter, 5 predictions allowed per image)\n",
    "\n",
    "    Returns\n",
    "    -------\n",
    "    score : double\n",
    "    \"\"\"    \n",
    "    try:\n",
    "        return 1 / (predictions[:5].index(label) + 1)\n",
    "    except ValueError:\n",
    "        return 0.0"
   ]
  },
  {
   "cell_type": "code",
   "execution_count": 3,
   "metadata": {},
   "outputs": [],
   "source": [
    "def map_per_set(labels, predictions):\n",
    "    \"\"\"Computes the average over multiple images.\n",
    "\n",
    "    Parameters\n",
    "    ----------\n",
    "    labels : list\n",
    "             A list of the true labels. (Only one true label per images allowed!)\n",
    "    predictions : list of list\n",
    "             A list of predicted elements (order does matter, 5 predictions allowed per image)\n",
    "\n",
    "    Returns\n",
    "    -------\n",
    "    score : double\n",
    "    \"\"\"\n",
    "    return np.mean([map_per_image(l, p) for l,p in zip(labels, predictions)])"
   ]
  },
  {
   "cell_type": "code",
   "execution_count": 4,
   "metadata": {},
   "outputs": [],
   "source": [
    "groundtruth = pd.read_csv(\"subset_test.csv\")"
   ]
  },
  {
   "cell_type": "code",
   "execution_count": 37,
   "metadata": {},
   "outputs": [
    {
     "data": {
      "text/html": [
       "<div>\n",
       "<style scoped>\n",
       "    .dataframe tbody tr th:only-of-type {\n",
       "        vertical-align: middle;\n",
       "    }\n",
       "\n",
       "    .dataframe tbody tr th {\n",
       "        vertical-align: top;\n",
       "    }\n",
       "\n",
       "    .dataframe thead th {\n",
       "        text-align: right;\n",
       "    }\n",
       "</style>\n",
       "<table border=\"1\" class=\"dataframe\">\n",
       "  <thead>\n",
       "    <tr style=\"text-align: right;\">\n",
       "      <th></th>\n",
       "      <th>Unnamed: 0</th>\n",
       "      <th>Image</th>\n",
       "      <th>Id</th>\n",
       "    </tr>\n",
       "  </thead>\n",
       "  <tbody>\n",
       "    <tr>\n",
       "      <th>0</th>\n",
       "      <td>10114</td>\n",
       "      <td>6657fc566.jpg</td>\n",
       "      <td>w_d573a68</td>\n",
       "    </tr>\n",
       "    <tr>\n",
       "      <th>1</th>\n",
       "      <td>6614</td>\n",
       "      <td>43610ee69.jpg</td>\n",
       "      <td>w_3fe5d56</td>\n",
       "    </tr>\n",
       "    <tr>\n",
       "      <th>2</th>\n",
       "      <td>488</td>\n",
       "      <td>04a973240.jpg</td>\n",
       "      <td>w_11ff425</td>\n",
       "    </tr>\n",
       "    <tr>\n",
       "      <th>3</th>\n",
       "      <td>17021</td>\n",
       "      <td>ab104061d.jpg</td>\n",
       "      <td>w_bbfce38</td>\n",
       "    </tr>\n",
       "    <tr>\n",
       "      <th>4</th>\n",
       "      <td>3543</td>\n",
       "      <td>2453dea33.jpg</td>\n",
       "      <td>w_16def42</td>\n",
       "    </tr>\n",
       "    <tr>\n",
       "      <th>5</th>\n",
       "      <td>7207</td>\n",
       "      <td>491d5c1af.jpg</td>\n",
       "      <td>w_53feb91</td>\n",
       "    </tr>\n",
       "    <tr>\n",
       "      <th>6</th>\n",
       "      <td>25036</td>\n",
       "      <td>fc5c53caa.jpg</td>\n",
       "      <td>w_dd88965</td>\n",
       "    </tr>\n",
       "    <tr>\n",
       "      <th>7</th>\n",
       "      <td>23067</td>\n",
       "      <td>e880a0ac6.jpg</td>\n",
       "      <td>w_23a388d</td>\n",
       "    </tr>\n",
       "    <tr>\n",
       "      <th>8</th>\n",
       "      <td>19420</td>\n",
       "      <td>c3cb62502.jpg</td>\n",
       "      <td>w_76065ea</td>\n",
       "    </tr>\n",
       "    <tr>\n",
       "      <th>9</th>\n",
       "      <td>10974</td>\n",
       "      <td>6f65249d3.jpg</td>\n",
       "      <td>w_030e2cf</td>\n",
       "    </tr>\n",
       "  </tbody>\n",
       "</table>\n",
       "</div>"
      ],
      "text/plain": [
       "   Unnamed: 0          Image         Id\n",
       "0       10114  6657fc566.jpg  w_d573a68\n",
       "1        6614  43610ee69.jpg  w_3fe5d56\n",
       "2         488  04a973240.jpg  w_11ff425\n",
       "3       17021  ab104061d.jpg  w_bbfce38\n",
       "4        3543  2453dea33.jpg  w_16def42\n",
       "5        7207  491d5c1af.jpg  w_53feb91\n",
       "6       25036  fc5c53caa.jpg  w_dd88965\n",
       "7       23067  e880a0ac6.jpg  w_23a388d\n",
       "8       19420  c3cb62502.jpg  w_76065ea\n",
       "9       10974  6f65249d3.jpg  w_030e2cf"
      ]
     },
     "execution_count": 37,
     "metadata": {},
     "output_type": "execute_result"
    }
   ],
   "source": [
    "groundtruth.head(10)"
   ]
  },
  {
   "cell_type": "code",
   "execution_count": 26,
   "metadata": {},
   "outputs": [],
   "source": [
    "prediction = pd.read_csv('data/Predicted_labels_crop_1.csv')"
   ]
  },
  {
   "cell_type": "code",
   "execution_count": 38,
   "metadata": {},
   "outputs": [
    {
     "data": {
      "text/html": [
       "<div>\n",
       "<style scoped>\n",
       "    .dataframe tbody tr th:only-of-type {\n",
       "        vertical-align: middle;\n",
       "    }\n",
       "\n",
       "    .dataframe tbody tr th {\n",
       "        vertical-align: top;\n",
       "    }\n",
       "\n",
       "    .dataframe thead th {\n",
       "        text-align: right;\n",
       "    }\n",
       "</style>\n",
       "<table border=\"1\" class=\"dataframe\">\n",
       "  <thead>\n",
       "    <tr style=\"text-align: right;\">\n",
       "      <th></th>\n",
       "      <th>Image</th>\n",
       "      <th>Id</th>\n",
       "    </tr>\n",
       "  </thead>\n",
       "  <tbody>\n",
       "    <tr>\n",
       "      <th>0</th>\n",
       "      <td>6657fc566.jpg</td>\n",
       "      <td>w_7d44896 w_88e4537 w_c6d918a w_a5b6ea7 w_dd88965</td>\n",
       "    </tr>\n",
       "    <tr>\n",
       "      <th>1</th>\n",
       "      <td>43610ee69.jpg</td>\n",
       "      <td>w_3fe5d56 w_89f6097 w_4c07458 w_343f088 w_191bce3</td>\n",
       "    </tr>\n",
       "    <tr>\n",
       "      <th>2</th>\n",
       "      <td>04a973240.jpg</td>\n",
       "      <td>w_11ff425 w_cd4cb49 w_9ba4a9a w_9438119 w_1f0cf0a</td>\n",
       "    </tr>\n",
       "    <tr>\n",
       "      <th>3</th>\n",
       "      <td>ab104061d.jpg</td>\n",
       "      <td>w_9c506f6 w_9d86594 w_9cf0388 w_efbdcbc w_34ecf36</td>\n",
       "    </tr>\n",
       "    <tr>\n",
       "      <th>4</th>\n",
       "      <td>2453dea33.jpg</td>\n",
       "      <td>w_16def42 w_396c12b w_f0fe284 w_f787e93 w_5597026</td>\n",
       "    </tr>\n",
       "    <tr>\n",
       "      <th>5</th>\n",
       "      <td>491d5c1af.jpg</td>\n",
       "      <td>w_0369a5c w_53feb91 w_8c25681 w_9b5109b w_9490369</td>\n",
       "    </tr>\n",
       "    <tr>\n",
       "      <th>6</th>\n",
       "      <td>fc5c53caa.jpg</td>\n",
       "      <td>w_16b5050 w_8a6a8d5 w_d405854 w_dd88965 w_0887d9b</td>\n",
       "    </tr>\n",
       "    <tr>\n",
       "      <th>7</th>\n",
       "      <td>e880a0ac6.jpg</td>\n",
       "      <td>w_5645ed1 w_4bf625b w_700ebb4 w_f48451c w_e5978cf</td>\n",
       "    </tr>\n",
       "    <tr>\n",
       "      <th>8</th>\n",
       "      <td>c3cb62502.jpg</td>\n",
       "      <td>w_f0fe284 w_4bf625b w_3de579a w_ef83760 w_e2372d6</td>\n",
       "    </tr>\n",
       "    <tr>\n",
       "      <th>9</th>\n",
       "      <td>6f65249d3.jpg</td>\n",
       "      <td>w_5597026 w_7d44896 w_dd88965 w_e6450bc w_2d6bb89</td>\n",
       "    </tr>\n",
       "  </tbody>\n",
       "</table>\n",
       "</div>"
      ],
      "text/plain": [
       "           Image                                                 Id\n",
       "0  6657fc566.jpg  w_7d44896 w_88e4537 w_c6d918a w_a5b6ea7 w_dd88965\n",
       "1  43610ee69.jpg  w_3fe5d56 w_89f6097 w_4c07458 w_343f088 w_191bce3\n",
       "2  04a973240.jpg  w_11ff425 w_cd4cb49 w_9ba4a9a w_9438119 w_1f0cf0a\n",
       "3  ab104061d.jpg  w_9c506f6 w_9d86594 w_9cf0388 w_efbdcbc w_34ecf36\n",
       "4  2453dea33.jpg  w_16def42 w_396c12b w_f0fe284 w_f787e93 w_5597026\n",
       "5  491d5c1af.jpg  w_0369a5c w_53feb91 w_8c25681 w_9b5109b w_9490369\n",
       "6  fc5c53caa.jpg  w_16b5050 w_8a6a8d5 w_d405854 w_dd88965 w_0887d9b\n",
       "7  e880a0ac6.jpg  w_5645ed1 w_4bf625b w_700ebb4 w_f48451c w_e5978cf\n",
       "8  c3cb62502.jpg  w_f0fe284 w_4bf625b w_3de579a w_ef83760 w_e2372d6\n",
       "9  6f65249d3.jpg  w_5597026 w_7d44896 w_dd88965 w_e6450bc w_2d6bb89"
      ]
     },
     "execution_count": 38,
     "metadata": {},
     "output_type": "execute_result"
    }
   ],
   "source": [
    "prediction.head(10)"
   ]
  },
  {
   "cell_type": "code",
   "execution_count": 28,
   "metadata": {},
   "outputs": [],
   "source": [
    "truthlabels = list(groundtruth['Id'])"
   ]
  },
  {
   "cell_type": "code",
   "execution_count": 29,
   "metadata": {},
   "outputs": [],
   "source": [
    "predictlabels = list(prediction['Id'])\n",
    "predictlabels = [candidate.split() for candidate in predictlabels]"
   ]
  },
  {
   "cell_type": "code",
   "execution_count": 30,
   "metadata": {},
   "outputs": [
    {
     "data": {
      "text/plain": [
       "['w_0369a5c', 'w_53feb91', 'w_8c25681', 'w_9b5109b', 'w_9490369']"
      ]
     },
     "execution_count": 30,
     "metadata": {},
     "output_type": "execute_result"
    }
   ],
   "source": [
    "predictlabels[5]"
   ]
  },
  {
   "cell_type": "code",
   "execution_count": 31,
   "metadata": {},
   "outputs": [
    {
     "data": {
      "text/plain": [
       "0.3818906376109766"
      ]
     },
     "execution_count": 31,
     "metadata": {},
     "output_type": "execute_result"
    }
   ],
   "source": [
    "map_per_set(truthlabels, predictlabels)"
   ]
  },
  {
   "cell_type": "markdown",
   "metadata": {},
   "source": [
    "Load the raw predicted probabilities and see the distribution."
   ]
  },
  {
   "cell_type": "code",
   "execution_count": 52,
   "metadata": {},
   "outputs": [],
   "source": [
    "prob_cropped_model = np.load('data/newwhales_scores.npy')"
   ]
  },
  {
   "cell_type": "code",
   "execution_count": 70,
   "metadata": {},
   "outputs": [
    {
     "data": {
      "text/plain": [
       "array([0.03469342, 0.0391973 , 0.05077217, 0.05910869, 0.08134436],\n",
       "      dtype=float32)"
      ]
     },
     "execution_count": 70,
     "metadata": {},
     "output_type": "execute_result"
    }
   ],
   "source": [
    "example =prob_cropped_model[17]\n",
    "example[np.argsort(example)[-5:]]"
   ]
  }
 ],
 "metadata": {
  "kernelspec": {
   "display_name": "Python 3",
   "language": "python",
   "name": "python3"
  },
  "language_info": {
   "codemirror_mode": {
    "name": "ipython",
    "version": 3
   },
   "file_extension": ".py",
   "mimetype": "text/x-python",
   "name": "python",
   "nbconvert_exporter": "python",
   "pygments_lexer": "ipython3",
   "version": "3.6.4"
  }
 },
 "nbformat": 4,
 "nbformat_minor": 2
}
